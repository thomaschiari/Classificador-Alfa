{
 "cells": [
  {
   "cell_type": "code",
   "execution_count": 36,
   "metadata": {
    "pycharm": {
     "name": "#%%\n"
    }
   },
   "outputs": [],
   "source": [
    "import numpy as np\n",
    "import pandas as pd\n",
    "import os\n",
    "import warnings\n",
    "from sklearn.model_selection import train_test_split\n",
    "from ClassificadorAlfa import ClassificadorAlfa\n",
    "warnings.filterwarnings('ignore')"
   ]
  },
  {
   "cell_type": "code",
   "execution_count": 37,
   "metadata": {
    "pycharm": {
     "name": "#%%\n"
    }
   },
   "outputs": [],
   "source": [
    "df = pd.read_csv(os.path.join('data', 'healthcare-dataset-stroke-data.csv'))"
   ]
  },
  {
   "attachments": {},
   "cell_type": "markdown",
   "metadata": {
    "pycharm": {
     "name": "#%% md\n"
    }
   },
   "source": [
    "# Hipotese 1"
   ]
  },
  {
   "cell_type": "code",
   "execution_count": 38,
   "metadata": {
    "pycharm": {
     "name": "#%%\n"
    }
   },
   "outputs": [],
   "source": [
    "# Separando target e features\n",
    "try:\n",
    "    df.drop(['id', 'bmi', 'age', 'avg_glucose_level'], axis=1, inplace=True)\n",
    "except:\n",
    "    pass\n",
    "\n",
    "X = df.drop('stroke', axis=1)\n",
    "y = df['stroke']"
   ]
  },
  {
   "cell_type": "code",
   "execution_count": 39,
   "metadata": {
    "pycharm": {
     "name": "#%%\n"
    }
   },
   "outputs": [],
   "source": [
    "# Obtendo variáveis categoricas\n",
    "object_features = [feature for feature in X.columns if X[feature].dtype == 'O']\n",
    "int_features = [feature for feature in X.columns if X[feature].dtype == 'int64']\n",
    "categorical_features = object_features + int_features"
   ]
  },
  {
   "cell_type": "code",
   "execution_count": 40,
   "metadata": {
    "pycharm": {
     "name": "#%%\n"
    }
   },
   "outputs": [],
   "source": [
    "# Obtendo variáveis dummy\n",
    "X = X[categorical_features]\n",
    "\n",
    "X = pd.get_dummies(X)\n",
    "X.hypertension = X.hypertension.astype('bool')\n",
    "X.heart_disease = X.heart_disease.astype('bool')\n",
    "\n",
    "X_names = X.columns\n",
    "\n",
    "y = y.replace(0,-1)\n",
    "\n",
    "X = X.to_numpy()\n",
    "y = y.to_numpy()"
   ]
  },
  {
   "cell_type": "code",
   "execution_count": 41,
   "metadata": {
    "pycharm": {
     "name": "#%%\n"
    }
   },
   "outputs": [],
   "source": [
    "X_train, X_test, y_train, y_test = train_test_split(X, y, train_size=0.5)\n",
    "X_train = X_train.astype('float64')\n",
    "y_train = y_train.astype('float64')\n",
    "X_test = X_test.astype('float64')\n",
    "y_test = y_test.astype('float64')"
   ]
  },
  {
   "cell_type": "code",
   "execution_count": 42,
   "metadata": {
    "pycharm": {
     "name": "#%%\n"
    }
   },
   "outputs": [],
   "source": [
    "# Inicializando os parâmetros do modelo\n",
    "a = np.random.randn(X_train.shape[1], 1)\n",
    "b = 1.0\n",
    "\n",
    "X_train = X_train.T\n",
    "y_train = y_train.T\n",
    "\n",
    "parametros = [a, b, X_train, y_train]\n",
    "learning_rate = 0.0001\n",
    "num_iteracoes = 50000"
   ]
  },
  {
   "cell_type": "code",
   "execution_count": 43,
   "metadata": {
    "pycharm": {
     "name": "#%%\n"
    }
   },
   "outputs": [],
   "source": [
    "classificador = ClassificadorAlfa(learning_rate, num_iteracoes, parametros)"
   ]
  },
  {
   "cell_type": "code",
   "execution_count": 44,
   "metadata": {
    "pycharm": {
     "name": "#%%\n"
    }
   },
   "outputs": [
    {
     "data": {
      "text/plain": [
       "(array([[ 0.59612979],\n",
       "        [-0.49292033],\n",
       "        [ 0.00366748],\n",
       "        [ 0.05842838],\n",
       "        [-0.45523878],\n",
       "        [ 0.16514722],\n",
       "        [-0.00106887],\n",
       "        [-0.37409518],\n",
       "        [ 0.96053848],\n",
       "        [-0.63548678],\n",
       "        [-0.68157617],\n",
       "        [-0.9380222 ],\n",
       "        [ 0.14410846],\n",
       "        [ 0.15816368],\n",
       "        [-0.1303328 ],\n",
       "        [ 0.0600806 ],\n",
       "        [-0.15685783],\n",
       "        [-0.08046018]]),\n",
       " -0.41852987475703685)"
      ]
     },
     "execution_count": 44,
     "metadata": {},
     "output_type": "execute_result"
    }
   ],
   "source": [
    "# Treinando o modelo\n",
    "a, b = classificador.treinar()\n",
    "a, b"
   ]
  },
  {
   "cell_type": "code",
   "execution_count": 48,
   "metadata": {
    "pycharm": {
     "name": "#%%\n"
    }
   },
   "outputs": [
    {
     "data": {
      "text/plain": [
       "array([[-1.14572585, -0.87926316, -0.97909826, ..., -0.8714263 ,\n",
       "        -1.11920083, -0.74801492]])"
      ]
     },
     "execution_count": 48,
     "metadata": {},
     "output_type": "execute_result"
    }
   ],
   "source": [
    "# Fazendo previsões\n",
    "ypred = a.T @ X_test.T + b\n",
    "ypred"
   ]
  },
  {
   "cell_type": "code",
   "execution_count": 46,
   "metadata": {
    "pycharm": {
     "name": "#%%\n"
    }
   },
   "outputs": [
    {
     "name": "stdout",
     "output_type": "stream",
     "text": [
      "A acurácia do modelo foi de 94.05%\n"
     ]
    }
   ],
   "source": [
    "acuracia = ClassificadorAlfa.acuracia(y_test, ypred)\n",
    "print(f'A acurácia do modelo foi de {acuracia*100:.2f}%')"
   ]
  },
  {
   "cell_type": "code",
   "execution_count": 49,
   "metadata": {
    "collapsed": false,
    "pycharm": {
     "name": "#%%\n"
    }
   },
   "outputs": [
    {
     "data": {
      "text/html": [
       "<div>\n",
       "<style scoped>\n",
       "    .dataframe tbody tr th:only-of-type {\n",
       "        vertical-align: middle;\n",
       "    }\n",
       "\n",
       "    .dataframe tbody tr th {\n",
       "        vertical-align: top;\n",
       "    }\n",
       "\n",
       "    .dataframe thead th {\n",
       "        text-align: right;\n",
       "    }\n",
       "</style>\n",
       "<table border=\"1\" class=\"dataframe\">\n",
       "  <thead>\n",
       "    <tr style=\"text-align: right;\">\n",
       "      <th></th>\n",
       "      <th>importance</th>\n",
       "    </tr>\n",
       "  </thead>\n",
       "  <tbody>\n",
       "    <tr>\n",
       "      <th>work_type_Never_worked</th>\n",
       "      <td>0.960538</td>\n",
       "    </tr>\n",
       "    <tr>\n",
       "      <th>work_type_children</th>\n",
       "      <td>0.938022</td>\n",
       "    </tr>\n",
       "    <tr>\n",
       "      <th>work_type_Self-employed</th>\n",
       "      <td>0.681576</td>\n",
       "    </tr>\n",
       "    <tr>\n",
       "      <th>work_type_Private</th>\n",
       "      <td>0.635487</td>\n",
       "    </tr>\n",
       "    <tr>\n",
       "      <th>hypertension</th>\n",
       "      <td>0.596130</td>\n",
       "    </tr>\n",
       "    <tr>\n",
       "      <th>heart_disease</th>\n",
       "      <td>0.492920</td>\n",
       "    </tr>\n",
       "    <tr>\n",
       "      <th>gender_Other</th>\n",
       "      <td>0.455239</td>\n",
       "    </tr>\n",
       "    <tr>\n",
       "      <th>work_type_Govt_job</th>\n",
       "      <td>0.374095</td>\n",
       "    </tr>\n",
       "    <tr>\n",
       "      <th>ever_married_No</th>\n",
       "      <td>0.165147</td>\n",
       "    </tr>\n",
       "    <tr>\n",
       "      <th>Residence_type_Urban</th>\n",
       "      <td>0.158164</td>\n",
       "    </tr>\n",
       "    <tr>\n",
       "      <th>smoking_status_never smoked</th>\n",
       "      <td>0.156858</td>\n",
       "    </tr>\n",
       "    <tr>\n",
       "      <th>Residence_type_Rural</th>\n",
       "      <td>0.144108</td>\n",
       "    </tr>\n",
       "    <tr>\n",
       "      <th>smoking_status_Unknown</th>\n",
       "      <td>0.130333</td>\n",
       "    </tr>\n",
       "    <tr>\n",
       "      <th>smoking_status_smokes</th>\n",
       "      <td>0.080460</td>\n",
       "    </tr>\n",
       "    <tr>\n",
       "      <th>smoking_status_formerly smoked</th>\n",
       "      <td>0.060081</td>\n",
       "    </tr>\n",
       "    <tr>\n",
       "      <th>gender_Male</th>\n",
       "      <td>0.058428</td>\n",
       "    </tr>\n",
       "    <tr>\n",
       "      <th>gender_Female</th>\n",
       "      <td>0.003667</td>\n",
       "    </tr>\n",
       "    <tr>\n",
       "      <th>ever_married_Yes</th>\n",
       "      <td>0.001069</td>\n",
       "    </tr>\n",
       "  </tbody>\n",
       "</table>\n",
       "</div>"
      ],
      "text/plain": [
       "                                importance\n",
       "work_type_Never_worked            0.960538\n",
       "work_type_children                0.938022\n",
       "work_type_Self-employed           0.681576\n",
       "work_type_Private                 0.635487\n",
       "hypertension                      0.596130\n",
       "heart_disease                     0.492920\n",
       "gender_Other                      0.455239\n",
       "work_type_Govt_job                0.374095\n",
       "ever_married_No                   0.165147\n",
       "Residence_type_Urban              0.158164\n",
       "smoking_status_never smoked       0.156858\n",
       "Residence_type_Rural              0.144108\n",
       "smoking_status_Unknown            0.130333\n",
       "smoking_status_smokes             0.080460\n",
       "smoking_status_formerly smoked    0.060081\n",
       "gender_Male                       0.058428\n",
       "gender_Female                     0.003667\n",
       "ever_married_Yes                  0.001069"
      ]
     },
     "execution_count": 49,
     "metadata": {},
     "output_type": "execute_result"
    }
   ],
   "source": [
    "# Selecionando as features mais importantes\n",
    "features = X_names\n",
    "importances = pd.DataFrame(data=np.abs(a), index=features, columns=['importance']).sort_values(by='importance', ascending=False)\n",
    "importances"
   ]
  }
 ],
 "metadata": {
  "kernelspec": {
   "display_name": "Python 3",
   "language": "python",
   "name": "python3"
  },
  "language_info": {
   "codemirror_mode": {
    "name": "ipython",
    "version": 3
   },
   "file_extension": ".py",
   "mimetype": "text/x-python",
   "name": "python",
   "nbconvert_exporter": "python",
   "pygments_lexer": "ipython3",
   "version": "3.10.6"
  },
  "orig_nbformat": 4
 },
 "nbformat": 4,
 "nbformat_minor": 2
}
