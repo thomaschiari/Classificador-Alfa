{
 "cells": [
  {
   "cell_type": "code",
   "execution_count": 24,
   "metadata": {},
   "outputs": [],
   "source": [
    "import numpy as np\n",
    "import pandas as pd\n",
    "import matplotlib.pyplot as plt\n",
    "import seaborn as sns\n",
    "import os\n",
    "import warnings\n",
    "from sklearn.model_selection import train_test_split\n",
    "from ClassificadorAlfa import ClassificadorAlfa\n",
    "warnings.filterwarnings('ignore')"
   ]
  },
  {
   "cell_type": "code",
   "execution_count": 25,
   "metadata": {},
   "outputs": [],
   "source": [
    "df = pd.read_csv(os.path.join('data', 'healthcare-dataset-stroke-data.csv'))"
   ]
  },
  {
   "attachments": {},
   "cell_type": "markdown",
   "metadata": {},
   "source": [
    "# Hipotese 1"
   ]
  },
  {
   "cell_type": "code",
   "execution_count": 26,
   "metadata": {},
   "outputs": [],
   "source": [
    "# Separando target e features\n",
    "try:\n",
    "    df.drop(['id', 'bmi', 'age', 'avg_glucose_level'], axis=1, inplace=True)\n",
    "except:\n",
    "    pass\n",
    "\n",
    "X = df.drop('stroke', axis=1)\n",
    "y = df['stroke']"
   ]
  },
  {
   "cell_type": "code",
   "execution_count": 27,
   "metadata": {},
   "outputs": [],
   "source": [
    "# Obtendo variáveis categoricas\n",
    "object_features = [feature for feature in X.columns if X[feature].dtype == 'O']\n",
    "int_features = [feature for feature in X.columns if X[feature].dtype == 'int64']\n",
    "categorical_features = object_features + int_features"
   ]
  },
  {
   "cell_type": "code",
   "execution_count": 28,
   "metadata": {},
   "outputs": [],
   "source": [
    "# Obtendo variáveis dummy\n",
    "X = X[categorical_features]\n",
    "\n",
    "X = pd.get_dummies(X)\n",
    "X.hypertension = X.hypertension.astype('bool')\n",
    "X.heart_disease = X.heart_disease.astype('bool')\n",
    "\n",
    "y = y.replace(0,-1)\n",
    "\n",
    "X = X.to_numpy()\n",
    "y = y.to_numpy()"
   ]
  },
  {
   "cell_type": "code",
   "execution_count": 29,
   "metadata": {},
   "outputs": [],
   "source": [
    "X_train, X_test, y_train, y_test = train_test_split(X, y, train_size=0.5)\n",
    "X_train = X_train.astype('float64')\n",
    "y_train = y_train.astype('float64')\n",
    "X_test = X_test.astype('float64')\n",
    "y_test = y_test.astype('float64')"
   ]
  },
  {
   "cell_type": "code",
   "execution_count": 30,
   "metadata": {},
   "outputs": [],
   "source": [
    "# Inicializando os parâmetros do modelo\n",
    "a = np.random.randn(X_train.shape[1], 1)\n",
    "b = 1.0\n",
    "\n",
    "X_train = X_train.T\n",
    "y_train = y_train.T\n",
    "\n",
    "parametros = [a, b, X_train, y_train]\n",
    "learning_rate = 0.0001\n",
    "num_iteracoes = 50000"
   ]
  },
  {
   "cell_type": "code",
   "execution_count": 31,
   "metadata": {},
   "outputs": [],
   "source": [
    "classificador = ClassificadorAlfa(learning_rate, num_iteracoes, parametros)"
   ]
  },
  {
   "cell_type": "code",
   "execution_count": 32,
   "metadata": {},
   "outputs": [
    {
     "data": {
      "text/plain": [
       "(array([[-0.01482256],\n",
       "        [-0.52207551],\n",
       "        [-0.89984293],\n",
       "        [-0.83841946],\n",
       "        [ 0.50732865],\n",
       "        [ 0.35809013],\n",
       "        [ 0.54862098],\n",
       "        [-0.08223175],\n",
       "        [ 0.57881998],\n",
       "        [-0.18764964],\n",
       "        [-0.24714749],\n",
       "        [ 0.18074702],\n",
       "        [-0.5581565 ],\n",
       "        [-0.52051221],\n",
       "        [ 0.02284022],\n",
       "        [ 0.43565696],\n",
       "        [ 0.29498708],\n",
       "        [ 0.1722181 ]]),\n",
       " -0.033390522929850744)"
      ]
     },
     "execution_count": 32,
     "metadata": {},
     "output_type": "execute_result"
    }
   ],
   "source": [
    "# Treinando o modelo\n",
    "a, b = classificador.treinar()\n",
    "a, b"
   ]
  },
  {
   "cell_type": "code",
   "execution_count": 33,
   "metadata": {},
   "outputs": [
    {
     "data": {
      "text/plain": [
       "array([[-1.04331349, -1.06481837, -1.00851063, ..., -0.96453891,\n",
       "        -1.38120826, -1.29810925]])"
      ]
     },
     "execution_count": 33,
     "metadata": {},
     "output_type": "execute_result"
    }
   ],
   "source": [
    "# Fazendo previsões\n",
    "ypred = a.T @ X_test.T + b\n",
    "ypred"
   ]
  },
  {
   "cell_type": "code",
   "execution_count": 34,
   "metadata": {},
   "outputs": [
    {
     "name": "stdout",
     "output_type": "stream",
     "text": [
      "A acurácia do modelo foi de 94.95%\n"
     ]
    }
   ],
   "source": [
    "acuracia = ClassificadorAlfa.acuracia(y_test, ypred)\n",
    "print(f'A acurácia do modelo foi de {acuracia*100:.2f}%')"
   ]
  },
  {
   "cell_type": "code",
   "execution_count": 35,
   "metadata": {},
   "outputs": [],
   "source": [
    "# Selecionando as features mais importantes"
   ]
  }
 ],
 "metadata": {
  "kernelspec": {
   "display_name": "Python 3",
   "language": "python",
   "name": "python3"
  },
  "language_info": {
   "codemirror_mode": {
    "name": "ipython",
    "version": 3
   },
   "file_extension": ".py",
   "mimetype": "text/x-python",
   "name": "python",
   "nbconvert_exporter": "python",
   "pygments_lexer": "ipython3",
   "version": "3.10.6"
  },
  "orig_nbformat": 4
 },
 "nbformat": 4,
 "nbformat_minor": 2
}
